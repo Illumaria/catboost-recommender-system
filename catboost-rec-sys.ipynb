{
  "nbformat": 4,
  "nbformat_minor": 0,
  "metadata": {
    "colab": {
      "name": "made-2-catboost-final.ipynb",
      "provenance": [],
      "collapsed_sections": [
        "YLDFxhlRgp_E"
      ],
      "toc_visible": true
    },
    "kernelspec": {
      "name": "python3",
      "display_name": "Python 3"
    }
  },
  "cells": [
    {
      "cell_type": "markdown",
      "metadata": {
        "id": "YLDFxhlRgp_E",
        "colab_type": "text"
      },
      "source": [
        "# **Install modules**"
      ]
    },
    {
      "cell_type": "code",
      "metadata": {
        "id": "kB6mCAtcHzKG",
        "colab_type": "code",
        "colab": {
          "base_uri": "https://localhost:8080/"
        },
        "outputId": "46982f79-f01b-4795-ddeb-a0c7b5539e39"
      },
      "source": [
        "!pip install catboost"
      ],
      "execution_count": null,
      "outputs": [
        {
          "output_type": "stream",
          "text": [
            "Requirement already satisfied: catboost in /usr/local/lib/python3.6/dist-packages (0.24)\n",
            "Requirement already satisfied: plotly in /usr/local/lib/python3.6/dist-packages (from catboost) (4.4.1)\n",
            "Requirement already satisfied: scipy in /usr/local/lib/python3.6/dist-packages (from catboost) (1.4.1)\n",
            "Requirement already satisfied: graphviz in /usr/local/lib/python3.6/dist-packages (from catboost) (0.10.1)\n",
            "Requirement already satisfied: numpy>=1.16.0 in /usr/local/lib/python3.6/dist-packages (from catboost) (1.18.5)\n",
            "Requirement already satisfied: six in /usr/local/lib/python3.6/dist-packages (from catboost) (1.15.0)\n",
            "Requirement already satisfied: pandas>=0.24.0 in /usr/local/lib/python3.6/dist-packages (from catboost) (1.0.5)\n",
            "Requirement already satisfied: matplotlib in /usr/local/lib/python3.6/dist-packages (from catboost) (3.2.2)\n",
            "Requirement already satisfied: retrying>=1.3.3 in /usr/local/lib/python3.6/dist-packages (from plotly->catboost) (1.3.3)\n",
            "Requirement already satisfied: pytz>=2017.2 in /usr/local/lib/python3.6/dist-packages (from pandas>=0.24.0->catboost) (2018.9)\n",
            "Requirement already satisfied: python-dateutil>=2.6.1 in /usr/local/lib/python3.6/dist-packages (from pandas>=0.24.0->catboost) (2.8.1)\n",
            "Requirement already satisfied: pyparsing!=2.0.4,!=2.1.2,!=2.1.6,>=2.0.1 in /usr/local/lib/python3.6/dist-packages (from matplotlib->catboost) (2.4.7)\n",
            "Requirement already satisfied: kiwisolver>=1.0.1 in /usr/local/lib/python3.6/dist-packages (from matplotlib->catboost) (1.2.0)\n",
            "Requirement already satisfied: cycler>=0.10 in /usr/local/lib/python3.6/dist-packages (from matplotlib->catboost) (0.10.0)\n"
          ],
          "name": "stdout"
        }
      ]
    },
    {
      "cell_type": "markdown",
      "metadata": {
        "id": "sNx8tJPwqipM",
        "colab_type": "text"
      },
      "source": [
        "# **Add modules**"
      ]
    },
    {
      "cell_type": "code",
      "metadata": {
        "id": "yXwFoJV0qCLE",
        "colab_type": "code",
        "colab": {}
      },
      "source": [
        "import numpy as np\n",
        "import pandas as pd\n",
        "\n",
        "from catboost import *\n",
        "from sklearn.metrics.pairwise import paired_distances\n",
        "from sklearn.model_selection import train_test_split"
      ],
      "execution_count": null,
      "outputs": []
    },
    {
      "cell_type": "markdown",
      "metadata": {
        "id": "tDsbbdp5qtkk",
        "colab_type": "text"
      },
      "source": [
        "# **Load data**"
      ]
    },
    {
      "cell_type": "code",
      "metadata": {
        "id": "sq3qossUrzYi",
        "colab_type": "code",
        "colab": {}
      },
      "source": [
        "train_path = '/content/drive/My Drive/Colab Notebooks/made-task-2/train.csv'\n",
        "train_data = pd.read_csv(train_path)\n",
        "\n",
        "item_features_path = '/content/drive/My Drive/Colab Notebooks/made-task-2/item-features.csv'\n",
        "item_features_data = pd.read_csv(item_features_path)\n",
        "\n",
        "user_features_path = '/content/drive/My Drive/Colab Notebooks/made-task-2/user-features.csv'\n",
        "user_features_data = pd.read_csv(user_features_path)\n",
        "\n",
        "test_path = '/content/drive/My Drive/Colab Notebooks/made-task-2/test.csv'\n",
        "test_data = pd.read_csv(test_path)"
      ],
      "execution_count": null,
      "outputs": []
    },
    {
      "cell_type": "markdown",
      "metadata": {
        "id": "uyVvwMJitAuX",
        "colab_type": "text"
      },
      "source": [
        "# **Preprocess data**"
      ]
    },
    {
      "cell_type": "code",
      "metadata": {
        "id": "gfa_Xz671kJX",
        "colab_type": "code",
        "colab": {}
      },
      "source": [
        "train_data = train_data.drop('timestamp', axis=1)"
      ],
      "execution_count": null,
      "outputs": []
    },
    {
      "cell_type": "code",
      "metadata": {
        "id": "HbBqXznr1v8u",
        "colab_type": "code",
        "colab": {}
      },
      "source": [
        "test_data = test_data.drop('timestamp', axis=1)"
      ],
      "execution_count": null,
      "outputs": []
    },
    {
      "cell_type": "code",
      "metadata": {
        "id": "fh-I-p6QGllA",
        "colab_type": "code",
        "colab": {}
      },
      "source": [
        "user_features_data = user_features_data[['user_id', '0']]\n",
        "user_features_data.rename(columns={'0': 'user_f'}, inplace=True)"
      ],
      "execution_count": null,
      "outputs": []
    },
    {
      "cell_type": "code",
      "metadata": {
        "id": "wrAslPxl-Uol",
        "colab_type": "code",
        "colab": {}
      },
      "source": [
        "item_features_data = item_features_data.drop(['9', '19', '27', '30'], axis=1)"
      ],
      "execution_count": null,
      "outputs": []
    },
    {
      "cell_type": "markdown",
      "metadata": {
        "id": "v94Fp2w-r_OD",
        "colab_type": "text"
      },
      "source": [
        "# **Create train_df**"
      ]
    },
    {
      "cell_type": "code",
      "metadata": {
        "id": "-fVCadPpBm18",
        "colab_type": "code",
        "colab": {}
      },
      "source": [
        "# Unique items: 10, 11, 13, 17, 21, 23, 26, 29, 37, 39, 71, 100, and all others\n",
        "item_features_data.loc[:, 'label'] = 0\n",
        "item_features_data.loc[item_features_data['item_id'] == 10, 'label'] = 1\n",
        "item_features_data.loc[item_features_data['item_id'] == 11, 'label'] = 2\n",
        "item_features_data.loc[item_features_data['item_id'] == 13, 'label'] = 3\n",
        "item_features_data.loc[item_features_data['item_id'] == 17, 'label'] = 4\n",
        "item_features_data.loc[item_features_data['item_id'] == 21, 'label'] = 5\n",
        "item_features_data.loc[item_features_data['item_id'] == 23, 'label'] = 6\n",
        "item_features_data.loc[item_features_data['item_id'] == 26, 'label'] = 7\n",
        "item_features_data.loc[item_features_data['item_id'] == 29, 'label'] = 8\n",
        "item_features_data.loc[item_features_data['item_id'] == 37, 'label'] = 9\n",
        "item_features_data.loc[item_features_data['item_id'] == 39, 'label'] = 10\n",
        "item_features_data.loc[item_features_data['item_id'] == 71, 'label'] = 11\n",
        "item_features_data.loc[item_features_data['item_id'] == 100, 'label'] = 12"
      ],
      "execution_count": null,
      "outputs": []
    },
    {
      "cell_type": "code",
      "metadata": {
        "id": "Psf1a1tN7r8v",
        "colab_type": "code",
        "colab": {}
      },
      "source": [
        "# Create new feature: size (length of feature vector in feature space)\n",
        "tmp = pd.DataFrame(0, index=np.arange(item_features_data.shape[0]), columns=item_features_data.drop(['item_id', 'label'], axis=1).columns)\n",
        "item_features_data['size'] = paired_distances(item_features_data.drop(['item_id', 'label'], axis=1), tmp)"
      ],
      "execution_count": null,
      "outputs": []
    },
    {
      "cell_type": "code",
      "metadata": {
        "id": "Iim-h4u0zFDd",
        "colab_type": "code",
        "colab": {}
      },
      "source": [
        "# Merge train_data, user_features_data, and item_features_data\n",
        "interactions_items = pd.merge(train_data, item_features_data, on='item_id')\n",
        "interactions_items_users = pd.merge(interactions_items, user_features_data, on='user_id')"
      ],
      "execution_count": null,
      "outputs": []
    },
    {
      "cell_type": "code",
      "metadata": {
        "id": "frpmO6CS1Tta",
        "colab_type": "code",
        "colab": {}
      },
      "source": [
        "# Create new features: avg_rating and total_likes\n",
        "ratings_mean_count = pd.DataFrame(interactions_items_users.groupby('item_id')['like'].mean())\n",
        "ratings_mean_count.rename(columns={'like': 'avg_rating'}, inplace=True)\n",
        "ratings_mean_count['total_likes'] = pd.DataFrame(interactions_items_users.groupby('item_id')['like'].count())\n",
        "#ratings_mean_count.head()"
      ],
      "execution_count": null,
      "outputs": []
    },
    {
      "cell_type": "code",
      "metadata": {
        "id": "CHBTVN2Vn1D8",
        "colab_type": "code",
        "colab": {}
      },
      "source": [
        "# Merge interactions_items_users and ratings_mean_count (new features)\n",
        "train_df = pd.merge(interactions_items_users, ratings_mean_count, on='item_id')\n",
        "train_df.rename(columns={'like': 'known_like'}, inplace=True)"
      ],
      "execution_count": null,
      "outputs": []
    },
    {
      "cell_type": "code",
      "metadata": {
        "id": "OFM2IXJAEMsr",
        "colab_type": "code",
        "colab": {
          "base_uri": "https://localhost:8080/",
          "height": 226
        },
        "outputId": "357f2045-6271-44ad-8233-18e9fee9a3d2"
      },
      "source": [
        "train_df.head()"
      ],
      "execution_count": null,
      "outputs": [
        {
          "output_type": "execute_result",
          "data": {
            "text/html": [
              "<div>\n",
              "<style scoped>\n",
              "    .dataframe tbody tr th:only-of-type {\n",
              "        vertical-align: middle;\n",
              "    }\n",
              "\n",
              "    .dataframe tbody tr th {\n",
              "        vertical-align: top;\n",
              "    }\n",
              "\n",
              "    .dataframe thead th {\n",
              "        text-align: right;\n",
              "    }\n",
              "</style>\n",
              "<table border=\"1\" class=\"dataframe\">\n",
              "  <thead>\n",
              "    <tr style=\"text-align: right;\">\n",
              "      <th></th>\n",
              "      <th>user_id</th>\n",
              "      <th>item_id</th>\n",
              "      <th>known_like</th>\n",
              "      <th>0</th>\n",
              "      <th>1</th>\n",
              "      <th>2</th>\n",
              "      <th>3</th>\n",
              "      <th>4</th>\n",
              "      <th>5</th>\n",
              "      <th>6</th>\n",
              "      <th>7</th>\n",
              "      <th>8</th>\n",
              "      <th>10</th>\n",
              "      <th>11</th>\n",
              "      <th>12</th>\n",
              "      <th>13</th>\n",
              "      <th>14</th>\n",
              "      <th>15</th>\n",
              "      <th>16</th>\n",
              "      <th>17</th>\n",
              "      <th>18</th>\n",
              "      <th>20</th>\n",
              "      <th>21</th>\n",
              "      <th>22</th>\n",
              "      <th>23</th>\n",
              "      <th>24</th>\n",
              "      <th>25</th>\n",
              "      <th>26</th>\n",
              "      <th>28</th>\n",
              "      <th>29</th>\n",
              "      <th>31</th>\n",
              "      <th>label</th>\n",
              "      <th>size</th>\n",
              "      <th>user_f</th>\n",
              "      <th>avg_rating</th>\n",
              "      <th>total_likes</th>\n",
              "    </tr>\n",
              "  </thead>\n",
              "  <tbody>\n",
              "    <tr>\n",
              "      <th>0</th>\n",
              "      <td>140</td>\n",
              "      <td>342</td>\n",
              "      <td>0</td>\n",
              "      <td>0.000348</td>\n",
              "      <td>-0.000787</td>\n",
              "      <td>-0.000735</td>\n",
              "      <td>0.001043</td>\n",
              "      <td>-0.000249</td>\n",
              "      <td>0.000343</td>\n",
              "      <td>0.000405</td>\n",
              "      <td>0.000333</td>\n",
              "      <td>-0.001516</td>\n",
              "      <td>0.001709</td>\n",
              "      <td>0.000145</td>\n",
              "      <td>0.001145</td>\n",
              "      <td>0.000652</td>\n",
              "      <td>0.000386</td>\n",
              "      <td>-0.00105</td>\n",
              "      <td>-0.000089</td>\n",
              "      <td>-0.000838</td>\n",
              "      <td>-0.000444</td>\n",
              "      <td>-0.000371</td>\n",
              "      <td>-0.001591</td>\n",
              "      <td>-0.002098</td>\n",
              "      <td>-0.000349</td>\n",
              "      <td>0.000561</td>\n",
              "      <td>-0.00054</td>\n",
              "      <td>-0.000996</td>\n",
              "      <td>0.000211</td>\n",
              "      <td>-0.000584</td>\n",
              "      <td>0.000149</td>\n",
              "      <td>0</td>\n",
              "      <td>0.004599</td>\n",
              "      <td>0.001300</td>\n",
              "      <td>0.0</td>\n",
              "      <td>6</td>\n",
              "    </tr>\n",
              "    <tr>\n",
              "      <th>1</th>\n",
              "      <td>32</td>\n",
              "      <td>342</td>\n",
              "      <td>0</td>\n",
              "      <td>0.000348</td>\n",
              "      <td>-0.000787</td>\n",
              "      <td>-0.000735</td>\n",
              "      <td>0.001043</td>\n",
              "      <td>-0.000249</td>\n",
              "      <td>0.000343</td>\n",
              "      <td>0.000405</td>\n",
              "      <td>0.000333</td>\n",
              "      <td>-0.001516</td>\n",
              "      <td>0.001709</td>\n",
              "      <td>0.000145</td>\n",
              "      <td>0.001145</td>\n",
              "      <td>0.000652</td>\n",
              "      <td>0.000386</td>\n",
              "      <td>-0.00105</td>\n",
              "      <td>-0.000089</td>\n",
              "      <td>-0.000838</td>\n",
              "      <td>-0.000444</td>\n",
              "      <td>-0.000371</td>\n",
              "      <td>-0.001591</td>\n",
              "      <td>-0.002098</td>\n",
              "      <td>-0.000349</td>\n",
              "      <td>0.000561</td>\n",
              "      <td>-0.00054</td>\n",
              "      <td>-0.000996</td>\n",
              "      <td>0.000211</td>\n",
              "      <td>-0.000584</td>\n",
              "      <td>0.000149</td>\n",
              "      <td>0</td>\n",
              "      <td>0.004599</td>\n",
              "      <td>0.000602</td>\n",
              "      <td>0.0</td>\n",
              "      <td>6</td>\n",
              "    </tr>\n",
              "    <tr>\n",
              "      <th>2</th>\n",
              "      <td>34</td>\n",
              "      <td>342</td>\n",
              "      <td>0</td>\n",
              "      <td>0.000348</td>\n",
              "      <td>-0.000787</td>\n",
              "      <td>-0.000735</td>\n",
              "      <td>0.001043</td>\n",
              "      <td>-0.000249</td>\n",
              "      <td>0.000343</td>\n",
              "      <td>0.000405</td>\n",
              "      <td>0.000333</td>\n",
              "      <td>-0.001516</td>\n",
              "      <td>0.001709</td>\n",
              "      <td>0.000145</td>\n",
              "      <td>0.001145</td>\n",
              "      <td>0.000652</td>\n",
              "      <td>0.000386</td>\n",
              "      <td>-0.00105</td>\n",
              "      <td>-0.000089</td>\n",
              "      <td>-0.000838</td>\n",
              "      <td>-0.000444</td>\n",
              "      <td>-0.000371</td>\n",
              "      <td>-0.001591</td>\n",
              "      <td>-0.002098</td>\n",
              "      <td>-0.000349</td>\n",
              "      <td>0.000561</td>\n",
              "      <td>-0.00054</td>\n",
              "      <td>-0.000996</td>\n",
              "      <td>0.000211</td>\n",
              "      <td>-0.000584</td>\n",
              "      <td>0.000149</td>\n",
              "      <td>0</td>\n",
              "      <td>0.004599</td>\n",
              "      <td>0.000491</td>\n",
              "      <td>0.0</td>\n",
              "      <td>6</td>\n",
              "    </tr>\n",
              "    <tr>\n",
              "      <th>3</th>\n",
              "      <td>350</td>\n",
              "      <td>342</td>\n",
              "      <td>0</td>\n",
              "      <td>0.000348</td>\n",
              "      <td>-0.000787</td>\n",
              "      <td>-0.000735</td>\n",
              "      <td>0.001043</td>\n",
              "      <td>-0.000249</td>\n",
              "      <td>0.000343</td>\n",
              "      <td>0.000405</td>\n",
              "      <td>0.000333</td>\n",
              "      <td>-0.001516</td>\n",
              "      <td>0.001709</td>\n",
              "      <td>0.000145</td>\n",
              "      <td>0.001145</td>\n",
              "      <td>0.000652</td>\n",
              "      <td>0.000386</td>\n",
              "      <td>-0.00105</td>\n",
              "      <td>-0.000089</td>\n",
              "      <td>-0.000838</td>\n",
              "      <td>-0.000444</td>\n",
              "      <td>-0.000371</td>\n",
              "      <td>-0.001591</td>\n",
              "      <td>-0.002098</td>\n",
              "      <td>-0.000349</td>\n",
              "      <td>0.000561</td>\n",
              "      <td>-0.00054</td>\n",
              "      <td>-0.000996</td>\n",
              "      <td>0.000211</td>\n",
              "      <td>-0.000584</td>\n",
              "      <td>0.000149</td>\n",
              "      <td>0</td>\n",
              "      <td>0.004599</td>\n",
              "      <td>0.000919</td>\n",
              "      <td>0.0</td>\n",
              "      <td>6</td>\n",
              "    </tr>\n",
              "    <tr>\n",
              "      <th>4</th>\n",
              "      <td>146</td>\n",
              "      <td>342</td>\n",
              "      <td>0</td>\n",
              "      <td>0.000348</td>\n",
              "      <td>-0.000787</td>\n",
              "      <td>-0.000735</td>\n",
              "      <td>0.001043</td>\n",
              "      <td>-0.000249</td>\n",
              "      <td>0.000343</td>\n",
              "      <td>0.000405</td>\n",
              "      <td>0.000333</td>\n",
              "      <td>-0.001516</td>\n",
              "      <td>0.001709</td>\n",
              "      <td>0.000145</td>\n",
              "      <td>0.001145</td>\n",
              "      <td>0.000652</td>\n",
              "      <td>0.000386</td>\n",
              "      <td>-0.00105</td>\n",
              "      <td>-0.000089</td>\n",
              "      <td>-0.000838</td>\n",
              "      <td>-0.000444</td>\n",
              "      <td>-0.000371</td>\n",
              "      <td>-0.001591</td>\n",
              "      <td>-0.002098</td>\n",
              "      <td>-0.000349</td>\n",
              "      <td>0.000561</td>\n",
              "      <td>-0.00054</td>\n",
              "      <td>-0.000996</td>\n",
              "      <td>0.000211</td>\n",
              "      <td>-0.000584</td>\n",
              "      <td>0.000149</td>\n",
              "      <td>0</td>\n",
              "      <td>0.004599</td>\n",
              "      <td>0.000777</td>\n",
              "      <td>0.0</td>\n",
              "      <td>6</td>\n",
              "    </tr>\n",
              "  </tbody>\n",
              "</table>\n",
              "</div>"
            ],
            "text/plain": [
              "   user_id  item_id  known_like  ...    user_f  avg_rating  total_likes\n",
              "0      140      342           0  ...  0.001300         0.0            6\n",
              "1       32      342           0  ...  0.000602         0.0            6\n",
              "2       34      342           0  ...  0.000491         0.0            6\n",
              "3      350      342           0  ...  0.000919         0.0            6\n",
              "4      146      342           0  ...  0.000777         0.0            6\n",
              "\n",
              "[5 rows x 36 columns]"
            ]
          },
          "metadata": {
            "tags": []
          },
          "execution_count": 13
        }
      ]
    },
    {
      "cell_type": "code",
      "metadata": {
        "id": "hadtB1UVoRQb",
        "colab_type": "code",
        "colab": {}
      },
      "source": [
        "# Rearrange columns in train_df\n",
        "cols =  ['user_id', 'user_f', 'item_id', 'avg_rating',\n",
        "         'total_likes', 'size', 'label', 'known_like']"
      ],
      "execution_count": null,
      "outputs": []
    },
    {
      "cell_type": "code",
      "metadata": {
        "id": "p7lfYpFkrh6h",
        "colab_type": "code",
        "colab": {
          "base_uri": "https://localhost:8080/",
          "height": 206
        },
        "outputId": "4f78d144-ab61-4452-fa03-f70cdb9f7a75"
      },
      "source": [
        "train_df = train_df[cols]\n",
        "train_df.head()"
      ],
      "execution_count": null,
      "outputs": [
        {
          "output_type": "execute_result",
          "data": {
            "text/html": [
              "<div>\n",
              "<style scoped>\n",
              "    .dataframe tbody tr th:only-of-type {\n",
              "        vertical-align: middle;\n",
              "    }\n",
              "\n",
              "    .dataframe tbody tr th {\n",
              "        vertical-align: top;\n",
              "    }\n",
              "\n",
              "    .dataframe thead th {\n",
              "        text-align: right;\n",
              "    }\n",
              "</style>\n",
              "<table border=\"1\" class=\"dataframe\">\n",
              "  <thead>\n",
              "    <tr style=\"text-align: right;\">\n",
              "      <th></th>\n",
              "      <th>user_id</th>\n",
              "      <th>user_f</th>\n",
              "      <th>item_id</th>\n",
              "      <th>avg_rating</th>\n",
              "      <th>total_likes</th>\n",
              "      <th>size</th>\n",
              "      <th>label</th>\n",
              "      <th>known_like</th>\n",
              "    </tr>\n",
              "  </thead>\n",
              "  <tbody>\n",
              "    <tr>\n",
              "      <th>0</th>\n",
              "      <td>140</td>\n",
              "      <td>0.001300</td>\n",
              "      <td>342</td>\n",
              "      <td>0.0</td>\n",
              "      <td>6</td>\n",
              "      <td>0.004599</td>\n",
              "      <td>0</td>\n",
              "      <td>0</td>\n",
              "    </tr>\n",
              "    <tr>\n",
              "      <th>1</th>\n",
              "      <td>32</td>\n",
              "      <td>0.000602</td>\n",
              "      <td>342</td>\n",
              "      <td>0.0</td>\n",
              "      <td>6</td>\n",
              "      <td>0.004599</td>\n",
              "      <td>0</td>\n",
              "      <td>0</td>\n",
              "    </tr>\n",
              "    <tr>\n",
              "      <th>2</th>\n",
              "      <td>34</td>\n",
              "      <td>0.000491</td>\n",
              "      <td>342</td>\n",
              "      <td>0.0</td>\n",
              "      <td>6</td>\n",
              "      <td>0.004599</td>\n",
              "      <td>0</td>\n",
              "      <td>0</td>\n",
              "    </tr>\n",
              "    <tr>\n",
              "      <th>3</th>\n",
              "      <td>350</td>\n",
              "      <td>0.000919</td>\n",
              "      <td>342</td>\n",
              "      <td>0.0</td>\n",
              "      <td>6</td>\n",
              "      <td>0.004599</td>\n",
              "      <td>0</td>\n",
              "      <td>0</td>\n",
              "    </tr>\n",
              "    <tr>\n",
              "      <th>4</th>\n",
              "      <td>146</td>\n",
              "      <td>0.000777</td>\n",
              "      <td>342</td>\n",
              "      <td>0.0</td>\n",
              "      <td>6</td>\n",
              "      <td>0.004599</td>\n",
              "      <td>0</td>\n",
              "      <td>0</td>\n",
              "    </tr>\n",
              "  </tbody>\n",
              "</table>\n",
              "</div>"
            ],
            "text/plain": [
              "   user_id    user_f  item_id  ...      size  label  known_like\n",
              "0      140  0.001300      342  ...  0.004599      0           0\n",
              "1       32  0.000602      342  ...  0.004599      0           0\n",
              "2       34  0.000491      342  ...  0.004599      0           0\n",
              "3      350  0.000919      342  ...  0.004599      0           0\n",
              "4      146  0.000777      342  ...  0.004599      0           0\n",
              "\n",
              "[5 rows x 8 columns]"
            ]
          },
          "metadata": {
            "tags": []
          },
          "execution_count": 15
        }
      ]
    },
    {
      "cell_type": "code",
      "metadata": {
        "id": "MXTBOb6c2cNZ",
        "colab_type": "code",
        "colab": {
          "base_uri": "https://localhost:8080/",
          "height": 206
        },
        "outputId": "3608bb0c-3571-4bcd-da0e-96009f27846d"
      },
      "source": [
        "# Can't have ids in final dataframe, so drop them\n",
        "train_df = train_df.drop(['user_id', 'item_id'], axis=1)\n",
        "# Can't trust high ratings with low ratings count\n",
        "train_df.loc[train_df['total_likes'] < 10, 'avg_rating'] = None\n",
        "train_df.head()"
      ],
      "execution_count": null,
      "outputs": [
        {
          "output_type": "execute_result",
          "data": {
            "text/html": [
              "<div>\n",
              "<style scoped>\n",
              "    .dataframe tbody tr th:only-of-type {\n",
              "        vertical-align: middle;\n",
              "    }\n",
              "\n",
              "    .dataframe tbody tr th {\n",
              "        vertical-align: top;\n",
              "    }\n",
              "\n",
              "    .dataframe thead th {\n",
              "        text-align: right;\n",
              "    }\n",
              "</style>\n",
              "<table border=\"1\" class=\"dataframe\">\n",
              "  <thead>\n",
              "    <tr style=\"text-align: right;\">\n",
              "      <th></th>\n",
              "      <th>user_f</th>\n",
              "      <th>avg_rating</th>\n",
              "      <th>total_likes</th>\n",
              "      <th>size</th>\n",
              "      <th>label</th>\n",
              "      <th>known_like</th>\n",
              "    </tr>\n",
              "  </thead>\n",
              "  <tbody>\n",
              "    <tr>\n",
              "      <th>0</th>\n",
              "      <td>0.001300</td>\n",
              "      <td>NaN</td>\n",
              "      <td>6</td>\n",
              "      <td>0.004599</td>\n",
              "      <td>0</td>\n",
              "      <td>0</td>\n",
              "    </tr>\n",
              "    <tr>\n",
              "      <th>1</th>\n",
              "      <td>0.000602</td>\n",
              "      <td>NaN</td>\n",
              "      <td>6</td>\n",
              "      <td>0.004599</td>\n",
              "      <td>0</td>\n",
              "      <td>0</td>\n",
              "    </tr>\n",
              "    <tr>\n",
              "      <th>2</th>\n",
              "      <td>0.000491</td>\n",
              "      <td>NaN</td>\n",
              "      <td>6</td>\n",
              "      <td>0.004599</td>\n",
              "      <td>0</td>\n",
              "      <td>0</td>\n",
              "    </tr>\n",
              "    <tr>\n",
              "      <th>3</th>\n",
              "      <td>0.000919</td>\n",
              "      <td>NaN</td>\n",
              "      <td>6</td>\n",
              "      <td>0.004599</td>\n",
              "      <td>0</td>\n",
              "      <td>0</td>\n",
              "    </tr>\n",
              "    <tr>\n",
              "      <th>4</th>\n",
              "      <td>0.000777</td>\n",
              "      <td>NaN</td>\n",
              "      <td>6</td>\n",
              "      <td>0.004599</td>\n",
              "      <td>0</td>\n",
              "      <td>0</td>\n",
              "    </tr>\n",
              "  </tbody>\n",
              "</table>\n",
              "</div>"
            ],
            "text/plain": [
              "     user_f  avg_rating  total_likes      size  label  known_like\n",
              "0  0.001300         NaN            6  0.004599      0           0\n",
              "1  0.000602         NaN            6  0.004599      0           0\n",
              "2  0.000491         NaN            6  0.004599      0           0\n",
              "3  0.000919         NaN            6  0.004599      0           0\n",
              "4  0.000777         NaN            6  0.004599      0           0"
            ]
          },
          "metadata": {
            "tags": []
          },
          "execution_count": 16
        }
      ]
    },
    {
      "cell_type": "markdown",
      "metadata": {
        "id": "CO9-t4SG1j5a",
        "colab_type": "text"
      },
      "source": [
        "# **Create test_df**"
      ]
    },
    {
      "cell_type": "code",
      "metadata": {
        "id": "UQ4ekb4e1mw1",
        "colab_type": "code",
        "colab": {}
      },
      "source": [
        "# Follow the same logic as for train_df\n",
        "test_df = pd.DataFrame(index=np.arange(item_features_data.shape[0]), columns=['user_f'])\n",
        "tmp = pd.merge(item_features_data, ratings_mean_count, on='item_id').sort_values('item_id')\n",
        "test_df = pd.concat([test_df, tmp], axis=1)"
      ],
      "execution_count": null,
      "outputs": []
    },
    {
      "cell_type": "code",
      "metadata": {
        "id": "MO42L84k8OGi",
        "colab_type": "code",
        "colab": {}
      },
      "source": [
        "# Rearrange columns in test_df\n",
        "cols =  ['user_f', 'item_id', 'avg_rating', 'total_likes', 'size', 'label']"
      ],
      "execution_count": null,
      "outputs": []
    },
    {
      "cell_type": "code",
      "metadata": {
        "id": "DV4nvyao8bbV",
        "colab_type": "code",
        "colab": {}
      },
      "source": [
        "test_df = test_df[cols]"
      ],
      "execution_count": null,
      "outputs": []
    },
    {
      "cell_type": "code",
      "metadata": {
        "id": "m-jJEsCmCITb",
        "colab_type": "code",
        "colab": {
          "base_uri": "https://localhost:8080/",
          "height": 206
        },
        "outputId": "a930f53c-a4ce-4113-c1e0-e54ffa53b806"
      },
      "source": [
        "test_df.set_index('item_id', inplace=True)\n",
        "test_df.index.name = None\n",
        "test_df = test_df.sort_index()\n",
        "test_df.loc[test_df['total_likes'] < 10, 'avg_rating'] = None\n",
        "test_df.head()"
      ],
      "execution_count": null,
      "outputs": [
        {
          "output_type": "execute_result",
          "data": {
            "text/html": [
              "<div>\n",
              "<style scoped>\n",
              "    .dataframe tbody tr th:only-of-type {\n",
              "        vertical-align: middle;\n",
              "    }\n",
              "\n",
              "    .dataframe tbody tr th {\n",
              "        vertical-align: top;\n",
              "    }\n",
              "\n",
              "    .dataframe thead th {\n",
              "        text-align: right;\n",
              "    }\n",
              "</style>\n",
              "<table border=\"1\" class=\"dataframe\">\n",
              "  <thead>\n",
              "    <tr style=\"text-align: right;\">\n",
              "      <th></th>\n",
              "      <th>user_f</th>\n",
              "      <th>avg_rating</th>\n",
              "      <th>total_likes</th>\n",
              "      <th>size</th>\n",
              "      <th>label</th>\n",
              "    </tr>\n",
              "  </thead>\n",
              "  <tbody>\n",
              "    <tr>\n",
              "      <th>0</th>\n",
              "      <td>NaN</td>\n",
              "      <td>0.142857</td>\n",
              "      <td>14</td>\n",
              "      <td>0.018964</td>\n",
              "      <td>0</td>\n",
              "    </tr>\n",
              "    <tr>\n",
              "      <th>1</th>\n",
              "      <td>NaN</td>\n",
              "      <td>NaN</td>\n",
              "      <td>6</td>\n",
              "      <td>0.032847</td>\n",
              "      <td>0</td>\n",
              "    </tr>\n",
              "    <tr>\n",
              "      <th>2</th>\n",
              "      <td>NaN</td>\n",
              "      <td>0.500000</td>\n",
              "      <td>18</td>\n",
              "      <td>0.024769</td>\n",
              "      <td>0</td>\n",
              "    </tr>\n",
              "    <tr>\n",
              "      <th>3</th>\n",
              "      <td>NaN</td>\n",
              "      <td>NaN</td>\n",
              "      <td>7</td>\n",
              "      <td>0.018398</td>\n",
              "      <td>0</td>\n",
              "    </tr>\n",
              "    <tr>\n",
              "      <th>4</th>\n",
              "      <td>NaN</td>\n",
              "      <td>0.250000</td>\n",
              "      <td>28</td>\n",
              "      <td>0.022997</td>\n",
              "      <td>0</td>\n",
              "    </tr>\n",
              "  </tbody>\n",
              "</table>\n",
              "</div>"
            ],
            "text/plain": [
              "  user_f  avg_rating  total_likes      size  label\n",
              "0    NaN    0.142857           14  0.018964      0\n",
              "1    NaN         NaN            6  0.032847      0\n",
              "2    NaN    0.500000           18  0.024769      0\n",
              "3    NaN         NaN            7  0.018398      0\n",
              "4    NaN    0.250000           28  0.022997      0"
            ]
          },
          "metadata": {
            "tags": []
          },
          "execution_count": 20
        }
      ]
    },
    {
      "cell_type": "code",
      "metadata": {
        "id": "DVYm9Pi48_tn",
        "colab_type": "code",
        "colab": {
          "base_uri": "https://localhost:8080/",
          "height": 206
        },
        "outputId": "b0818acb-6513-42e5-e997-50acc59e4953"
      },
      "source": [
        "test_df_lst = []\n",
        "for user_id in user_features_data['user_id'].values:\n",
        "    tmp = test_df.copy()\n",
        "    tmp.loc[:, 'user_f'] = user_features_data.loc[user_features_data['user_id'] == user_id]['user_f'].values[0]\n",
        "    test_df_lst.append(tmp)\n",
        "test_df_lst[0].head()"
      ],
      "execution_count": null,
      "outputs": [
        {
          "output_type": "execute_result",
          "data": {
            "text/html": [
              "<div>\n",
              "<style scoped>\n",
              "    .dataframe tbody tr th:only-of-type {\n",
              "        vertical-align: middle;\n",
              "    }\n",
              "\n",
              "    .dataframe tbody tr th {\n",
              "        vertical-align: top;\n",
              "    }\n",
              "\n",
              "    .dataframe thead th {\n",
              "        text-align: right;\n",
              "    }\n",
              "</style>\n",
              "<table border=\"1\" class=\"dataframe\">\n",
              "  <thead>\n",
              "    <tr style=\"text-align: right;\">\n",
              "      <th></th>\n",
              "      <th>user_f</th>\n",
              "      <th>avg_rating</th>\n",
              "      <th>total_likes</th>\n",
              "      <th>size</th>\n",
              "      <th>label</th>\n",
              "    </tr>\n",
              "  </thead>\n",
              "  <tbody>\n",
              "    <tr>\n",
              "      <th>0</th>\n",
              "      <td>0.000695</td>\n",
              "      <td>0.142857</td>\n",
              "      <td>14</td>\n",
              "      <td>0.018964</td>\n",
              "      <td>0</td>\n",
              "    </tr>\n",
              "    <tr>\n",
              "      <th>1</th>\n",
              "      <td>0.000695</td>\n",
              "      <td>NaN</td>\n",
              "      <td>6</td>\n",
              "      <td>0.032847</td>\n",
              "      <td>0</td>\n",
              "    </tr>\n",
              "    <tr>\n",
              "      <th>2</th>\n",
              "      <td>0.000695</td>\n",
              "      <td>0.500000</td>\n",
              "      <td>18</td>\n",
              "      <td>0.024769</td>\n",
              "      <td>0</td>\n",
              "    </tr>\n",
              "    <tr>\n",
              "      <th>3</th>\n",
              "      <td>0.000695</td>\n",
              "      <td>NaN</td>\n",
              "      <td>7</td>\n",
              "      <td>0.018398</td>\n",
              "      <td>0</td>\n",
              "    </tr>\n",
              "    <tr>\n",
              "      <th>4</th>\n",
              "      <td>0.000695</td>\n",
              "      <td>0.250000</td>\n",
              "      <td>28</td>\n",
              "      <td>0.022997</td>\n",
              "      <td>0</td>\n",
              "    </tr>\n",
              "  </tbody>\n",
              "</table>\n",
              "</div>"
            ],
            "text/plain": [
              "     user_f  avg_rating  total_likes      size  label\n",
              "0  0.000695    0.142857           14  0.018964      0\n",
              "1  0.000695         NaN            6  0.032847      0\n",
              "2  0.000695    0.500000           18  0.024769      0\n",
              "3  0.000695         NaN            7  0.018398      0\n",
              "4  0.000695    0.250000           28  0.022997      0"
            ]
          },
          "metadata": {
            "tags": []
          },
          "execution_count": 21
        }
      ]
    },
    {
      "cell_type": "markdown",
      "metadata": {
        "id": "Xeg-pyFVQO73",
        "colab_type": "text"
      },
      "source": [
        "# **Build Catboost model**"
      ]
    },
    {
      "cell_type": "code",
      "metadata": {
        "id": "BM-yx-E9QR5u",
        "colab_type": "code",
        "colab": {}
      },
      "source": [
        "X = np.array(train_df.drop('known_like', axis=1))\n",
        "y = np.ravel(train_df['known_like'])"
      ],
      "execution_count": null,
      "outputs": []
    },
    {
      "cell_type": "code",
      "metadata": {
        "id": "--0FWVbuQYu2",
        "colab_type": "code",
        "colab": {}
      },
      "source": [
        "X_train, X_valid, y_train, y_valid = train_test_split(X, y, train_size=0.8, random_state=42)"
      ],
      "execution_count": null,
      "outputs": []
    },
    {
      "cell_type": "code",
      "metadata": {
        "id": "adEcDER1QZEh",
        "colab_type": "code",
        "colab": {}
      },
      "source": [
        "model = CatBoostClassifier(iterations=1500,\n",
        "                           learning_rate=0.01,\n",
        "                           l2_leaf_reg=9.0,\n",
        "                           depth=10,\n",
        "                           rsm=0.5,\n",
        "                           loss_function='Logloss',\n",
        "                           logging_level='Silent',\n",
        "                           use_best_model=True,\n",
        "                           random_state=123)\n",
        "#cv_data = cv(Pool(X, y),\n",
        "#             model.get_params(),\n",
        "#             fold_count=5)\n",
        "#print('Precise validation accuracy score: {}'.format(np.max(cv_data['test-Logloss-mean'])))\n",
        "#cv_data"
      ],
      "execution_count": null,
      "outputs": []
    },
    {
      "cell_type": "code",
      "metadata": {
        "id": "zxtohrXaQcRa",
        "colab_type": "code",
        "colab": {
          "base_uri": "https://localhost:8080/",
          "height": 34
        },
        "outputId": "d637242a-0620-4f9d-fa6f-6514eaaadb7b"
      },
      "source": [
        "model.fit(\n",
        "    X_train, y_train,\n",
        "    eval_set=(X_valid, y_valid)\n",
        "    )"
      ],
      "execution_count": null,
      "outputs": [
        {
          "output_type": "execute_result",
          "data": {
            "text/plain": [
              "<catboost.core.CatBoostClassifier at 0x7fb8a652f550>"
            ]
          },
          "metadata": {
            "tags": []
          },
          "execution_count": 25
        }
      ]
    },
    {
      "cell_type": "markdown",
      "metadata": {
        "id": "yJOiKBpt1K2G",
        "colab_type": "text"
      },
      "source": [
        "# **Generate output**"
      ]
    },
    {
      "cell_type": "code",
      "metadata": {
        "id": "G9H3cGkJQwqw",
        "colab_type": "code",
        "colab": {}
      },
      "source": [
        "output = pd.DataFrame(columns=(['user_id'] + [i for i in range(20)]))\n",
        "\n",
        "for id in test_data['user_id'].values:\n",
        "    k = 0\n",
        "    res = []\n",
        "    predictions = model.predict_proba(test_df_lst[user_id])[:, 1]\n",
        "    preds_df = pd.DataFrame(predictions)\n",
        "    preds_df = preds_df.sort_values(0, ascending=False)\n",
        "    for rec in preds_df.index.values:\n",
        "        if rec not in train_data.loc[train_data['user_id'] == id]['item_id'].values:\n",
        "            res.append(rec)\n",
        "            k += 1\n",
        "            if k == 20:\n",
        "                break\n",
        "    output.loc[id] = [id] + list(res)"
      ],
      "execution_count": null,
      "outputs": []
    },
    {
      "cell_type": "code",
      "metadata": {
        "id": "qtScHSXcMaoT",
        "colab_type": "code",
        "colab": {
          "base_uri": "https://localhost:8080/",
          "height": 206
        },
        "outputId": "b4e6a28f-be49-4bdc-da59-9a359d7cdf6a"
      },
      "source": [
        "output.head()"
      ],
      "execution_count": null,
      "outputs": [
        {
          "output_type": "execute_result",
          "data": {
            "text/html": [
              "<div>\n",
              "<style scoped>\n",
              "    .dataframe tbody tr th:only-of-type {\n",
              "        vertical-align: middle;\n",
              "    }\n",
              "\n",
              "    .dataframe tbody tr th {\n",
              "        vertical-align: top;\n",
              "    }\n",
              "\n",
              "    .dataframe thead th {\n",
              "        text-align: right;\n",
              "    }\n",
              "</style>\n",
              "<table border=\"1\" class=\"dataframe\">\n",
              "  <thead>\n",
              "    <tr style=\"text-align: right;\">\n",
              "      <th></th>\n",
              "      <th>user_id</th>\n",
              "      <th>0</th>\n",
              "      <th>1</th>\n",
              "      <th>2</th>\n",
              "      <th>3</th>\n",
              "      <th>4</th>\n",
              "      <th>5</th>\n",
              "      <th>6</th>\n",
              "      <th>7</th>\n",
              "      <th>8</th>\n",
              "      <th>9</th>\n",
              "      <th>10</th>\n",
              "      <th>11</th>\n",
              "      <th>12</th>\n",
              "      <th>13</th>\n",
              "      <th>14</th>\n",
              "      <th>15</th>\n",
              "      <th>16</th>\n",
              "      <th>17</th>\n",
              "      <th>18</th>\n",
              "      <th>19</th>\n",
              "    </tr>\n",
              "  </thead>\n",
              "  <tbody>\n",
              "    <tr>\n",
              "      <th>166</th>\n",
              "      <td>166</td>\n",
              "      <td>76</td>\n",
              "      <td>37</td>\n",
              "      <td>35</td>\n",
              "      <td>22</td>\n",
              "      <td>60</td>\n",
              "      <td>65</td>\n",
              "      <td>66</td>\n",
              "      <td>80</td>\n",
              "      <td>11</td>\n",
              "      <td>21</td>\n",
              "      <td>58</td>\n",
              "      <td>7</td>\n",
              "      <td>5</td>\n",
              "      <td>36</td>\n",
              "      <td>40</td>\n",
              "      <td>72</td>\n",
              "      <td>146</td>\n",
              "      <td>87</td>\n",
              "      <td>78</td>\n",
              "      <td>33</td>\n",
              "    </tr>\n",
              "    <tr>\n",
              "      <th>26</th>\n",
              "      <td>26</td>\n",
              "      <td>76</td>\n",
              "      <td>37</td>\n",
              "      <td>35</td>\n",
              "      <td>22</td>\n",
              "      <td>60</td>\n",
              "      <td>65</td>\n",
              "      <td>66</td>\n",
              "      <td>80</td>\n",
              "      <td>11</td>\n",
              "      <td>21</td>\n",
              "      <td>58</td>\n",
              "      <td>7</td>\n",
              "      <td>5</td>\n",
              "      <td>36</td>\n",
              "      <td>40</td>\n",
              "      <td>72</td>\n",
              "      <td>146</td>\n",
              "      <td>87</td>\n",
              "      <td>78</td>\n",
              "      <td>67</td>\n",
              "    </tr>\n",
              "    <tr>\n",
              "      <th>41</th>\n",
              "      <td>41</td>\n",
              "      <td>76</td>\n",
              "      <td>37</td>\n",
              "      <td>35</td>\n",
              "      <td>22</td>\n",
              "      <td>60</td>\n",
              "      <td>65</td>\n",
              "      <td>66</td>\n",
              "      <td>80</td>\n",
              "      <td>11</td>\n",
              "      <td>21</td>\n",
              "      <td>58</td>\n",
              "      <td>5</td>\n",
              "      <td>36</td>\n",
              "      <td>40</td>\n",
              "      <td>72</td>\n",
              "      <td>146</td>\n",
              "      <td>87</td>\n",
              "      <td>78</td>\n",
              "      <td>67</td>\n",
              "      <td>33</td>\n",
              "    </tr>\n",
              "    <tr>\n",
              "      <th>286</th>\n",
              "      <td>286</td>\n",
              "      <td>76</td>\n",
              "      <td>37</td>\n",
              "      <td>35</td>\n",
              "      <td>22</td>\n",
              "      <td>60</td>\n",
              "      <td>65</td>\n",
              "      <td>66</td>\n",
              "      <td>80</td>\n",
              "      <td>11</td>\n",
              "      <td>21</td>\n",
              "      <td>58</td>\n",
              "      <td>7</td>\n",
              "      <td>5</td>\n",
              "      <td>36</td>\n",
              "      <td>72</td>\n",
              "      <td>146</td>\n",
              "      <td>87</td>\n",
              "      <td>78</td>\n",
              "      <td>67</td>\n",
              "      <td>33</td>\n",
              "    </tr>\n",
              "    <tr>\n",
              "      <th>108</th>\n",
              "      <td>108</td>\n",
              "      <td>76</td>\n",
              "      <td>37</td>\n",
              "      <td>35</td>\n",
              "      <td>22</td>\n",
              "      <td>60</td>\n",
              "      <td>66</td>\n",
              "      <td>80</td>\n",
              "      <td>11</td>\n",
              "      <td>21</td>\n",
              "      <td>58</td>\n",
              "      <td>7</td>\n",
              "      <td>5</td>\n",
              "      <td>36</td>\n",
              "      <td>40</td>\n",
              "      <td>72</td>\n",
              "      <td>146</td>\n",
              "      <td>87</td>\n",
              "      <td>78</td>\n",
              "      <td>67</td>\n",
              "      <td>33</td>\n",
              "    </tr>\n",
              "  </tbody>\n",
              "</table>\n",
              "</div>"
            ],
            "text/plain": [
              "    user_id   0   1   2   3   4   5   6  ...  12  13  14   15   16  17  18  19\n",
              "166     166  76  37  35  22  60  65  66  ...   5  36  40   72  146  87  78  33\n",
              "26       26  76  37  35  22  60  65  66  ...   5  36  40   72  146  87  78  67\n",
              "41       41  76  37  35  22  60  65  66  ...  36  40  72  146   87  78  67  33\n",
              "286     286  76  37  35  22  60  65  66  ...   5  36  72  146   87  78  67  33\n",
              "108     108  76  37  35  22  60  66  80  ...  36  40  72  146   87  78  67  33\n",
              "\n",
              "[5 rows x 21 columns]"
            ]
          },
          "metadata": {
            "tags": []
          },
          "execution_count": 27
        }
      ]
    },
    {
      "cell_type": "code",
      "metadata": {
        "id": "xgnx6JGc1S_2",
        "colab_type": "code",
        "colab": {}
      },
      "source": [
        "#output.to_csv('/content/drive/My Drive/Colab Notebooks/made-task-2/submission.csv', index=False)"
      ],
      "execution_count": null,
      "outputs": []
    }
  ]
}